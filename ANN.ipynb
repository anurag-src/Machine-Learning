{
  "nbformat": 4,
  "nbformat_minor": 0,
  "metadata": {
    "colab": {
      "name": "ANN_multi.ipynb",
      "provenance": [],
      "collapsed_sections": []
    },
    "kernelspec": {
      "name": "python3",
      "display_name": "Python 3"
    },
    "language_info": {
      "name": "python"
    }
  },
  "cells": [
    {
      "cell_type": "code",
      "metadata": {
        "id": "_K9WJ5LeSdgu"
      },
      "source": [
        "import numpy as np\n",
        "import pandas as pd\n",
        "import matplotlib.pyplot as plt"
      ],
      "execution_count": 37,
      "outputs": []
    },
    {
      "cell_type": "markdown",
      "metadata": {
        "id": "o4hSnhFxbXu5"
      },
      "source": [
        "Reading and Preprocessing"
      ]
    },
    {
      "cell_type": "code",
      "metadata": {
        "id": "uUfPlE7DbRZM"
      },
      "source": [
        "dataset=pd.read_csv('dataset_NN.csv')\n",
        "dataset=dataset.to_numpy()\n",
        "np.random.shuffle(dataset)"
      ],
      "execution_count": 38,
      "outputs": []
    },
    {
      "cell_type": "markdown",
      "metadata": {
        "id": "FDh-Y3GEZQUE"
      },
      "source": [
        "FUNCTIONS"
      ]
    },
    {
      "cell_type": "code",
      "metadata": {
        "id": "NQ5IGM7FZWph"
      },
      "source": [
        "#sigmoid function\n",
        "\n",
        "def sigmoid(x):\n",
        "\treturn 1/(1+np.exp(-x))"
      ],
      "execution_count": 39,
      "outputs": []
    },
    {
      "cell_type": "code",
      "metadata": {
        "id": "6-srqBbdZcNC"
      },
      "source": [
        "#initial encoding function\n",
        "\n",
        "def encoding_init_y(y,n_labels):\n",
        "\tn_samples=y.shape[0]\n",
        "\tencoded_y=np.zeros((n_labels,n_samples))\n",
        "\tfor j in range(n_samples):\n",
        "\n",
        "\t\tclassindx=int(y[j])-1\n",
        "\t\tencoded_y[classindx,j]=1\n",
        "\n",
        "\treturn encoded_y"
      ],
      "execution_count": 40,
      "outputs": []
    },
    {
      "cell_type": "code",
      "metadata": {
        "id": "XrZCsi2bZe4G"
      },
      "source": [
        "#softmax function\n",
        "\n",
        "def sftmx(z):\n",
        "    return np.exp(z) / np.sum(np.exp(z), axis=0)"
      ],
      "execution_count": 41,
      "outputs": []
    },
    {
      "cell_type": "code",
      "metadata": {
        "id": "bYckwCrFZh05"
      },
      "source": [
        "#initialization of random weights\n",
        "\n",
        "def params_init(num_x,hidden_sizes,num_y):\n",
        "\tH_1,H_2=hidden_sizes[:]\n",
        "\tW1=np.random.normal(0,1,size=(H_1,num_x))\n",
        "\tb1=np.zeros((H_1,1))\n",
        "\tif(H_2!=0):\n",
        "\t\tW2=np.random.normal(0,1,size=(H_2,H_1))\n",
        "\t\tb2=np.zeros((H_2,1))\n",
        "\t\tW3=np.random.normal(0,1,size=(num_y,H_2))\n",
        "\t\tb3=np.zeros((num_y,1))\n",
        "\t\treturn np.array([W1,b1,W2,b2,W3,b3],dtype=object)\n",
        "\t\n",
        "\tW2=np.random.normal(0,1,size=(num_y,H_1))\n",
        "\tb2=np.zeros((num_y,1))\n",
        "\treturn np.array([W1,b1,W2,b2],dtype=object)"
      ],
      "execution_count": 42,
      "outputs": []
    },
    {
      "cell_type": "code",
      "metadata": {
        "id": "458T__hNZlv2"
      },
      "source": [
        "#total loss calculating function\n",
        "\n",
        "def loss_fn(calc, real):\n",
        "    n_samples = real.shape[0]\n",
        "    logp = - np.log(calc[np.arange(n_samples), real.argmax(axis=1)])\n",
        "    loss = np.sum(logp)/n_samples\n",
        "    return loss"
      ],
      "execution_count": 43,
      "outputs": []
    },
    {
      "cell_type": "code",
      "metadata": {
        "id": "KpojMKHtZq_I"
      },
      "source": [
        "#forward propagation function\n",
        "\n",
        "def fwd_propagate(X,mult_param,hidden_sizes):\n",
        "\tH_1,H_2=hidden_sizes[:]\n",
        "\tif(H_2==0):\n",
        "\t\tW1,b1,W2,b2=mult_param\n",
        "\t\tZ1=W1@X+b1\n",
        "\t\tA1=sigmoid(Z1)\n",
        "\t\tZ2=W2@A1+b2\n",
        "\t\tA2=sftmx(Z2)\n",
        "\t\tmult_nodes=np.array([Z1,A1,Z2,A2],dtype=object)\n",
        "\telse:\n",
        "\t\tW1,b1,W2,b2,W3,b3=mult_param\n",
        "\t\tZ1=W1@X+b1\n",
        "\t\tA1=sigmoid(Z1)\n",
        "\t\tZ2=W2@A1+b2\n",
        "\t\tA2=sigmoid(Z2)\n",
        "\t\tZ3=W3@A2+b3\n",
        "\t\tA3=sftmx(Z3)\n",
        "\t\tmult_nodes=np.array([Z1,A1,Z2,A2,Z3,A3],dtype=object)\n",
        "\n",
        "\treturn mult_nodes"
      ],
      "execution_count": 44,
      "outputs": []
    },
    {
      "cell_type": "code",
      "metadata": {
        "id": "jLut2fBNZ2Hr"
      },
      "source": [
        "#function to find the gradients of the weights\n",
        "\n",
        "def grad_fn(mult_nodes,mult_param,X,y,hidden_sizes):\n",
        "\tH_1,H_2=hidden_sizes[:]\n",
        "\tm=X.shape[1]\n",
        "\tif(H_2==0):\n",
        "\t\tW1,b1,W2,b2=mult_param\n",
        "\t\tZ1,A1,Z2,A2=mult_nodes\n",
        "\t\tdz2=(A2-y)\n",
        "\t\tdw2=dz2@(A1.T)/m\n",
        "\t\tdb2=np.sum(dz2,axis=1,keepdims=True)/m\n",
        "\t\tda1=(W2.T)@dz2\n",
        "\t\tdz1=da1*(A1*(1-A1))\n",
        "\t\tdw1=dz1@(X.T)/m\n",
        "\t\tdb1=np.sum(dz1,axis=1,keepdims=True)/m\n",
        "\t\tgrad_param=np.array([dw1,db1,dw2,db2],dtype=object)\n",
        "\n",
        "\telse:\n",
        "\t\tW1,b1,W2,b2,W3,b3=mult_param\n",
        "\t\tZ1,A1,Z2,A2,Z3,A3=mult_nodes\n",
        "\t\tdz3=(A3-y)\n",
        "\t\tdw3=dz3@(A2.T)/m\n",
        "\t\tdb3=np.sum(dz3,axis=1,keepdims=True)/m\n",
        "\t\tda2=(W3.T)@dz3\n",
        "\t\tdz2=da2*(A2*(1-A2))\n",
        "\t\tdw2=dz2@(A1.T)/m\n",
        "\t\tdb2=np.sum(dz2,axis=1,keepdims=True)/m\n",
        "\t\tda1=(W2.T)@dz2\n",
        "\t\tdz1=da1*(A1*(1-A1))\n",
        "\t\tdw1=dz1@(X.T)/m\n",
        "\t\tdb1=np.sum(dz1,axis=1,keepdims=True)/m\n",
        "\t\tgrad_param=np.array([dw1,db1,dw2,db2,dw3,db3],dtype=object)\n",
        "\t\n",
        "\treturn grad_param"
      ],
      "execution_count": 45,
      "outputs": []
    },
    {
      "cell_type": "code",
      "metadata": {
        "id": "h7lEtt96Z8Ax"
      },
      "source": [
        "#gradient descent function\n",
        "\n",
        "def grad_desc_fn(X,y,eta,epochs,hidden_sizes,batch_length):\n",
        "\tH_1,H_2=hidden_sizes[:]\n",
        "\tn_labels=y.shape[0]\n",
        "\terrors=np.array([])\n",
        "\tmult_accuracy=np.array([])\n",
        "\tmult_param=params_init(X.shape[0],hidden_sizes,n_labels)\n",
        "\t\n",
        "\tfor j in range(epochs):\n",
        "\t\tmult_nodes=fwd_propagate(X,mult_param,hidden_sizes)\n",
        "\t\tgrad_param=grad_fn(mult_nodes,mult_param,X,y,hidden_sizes)\n",
        "\t\tmult_param-=eta*grad_param\n",
        "\t\tcalc=mult_nodes[-1]\n",
        "\t\t\n",
        "\t\tloss=loss_fn(calc.T,y.T)\n",
        "\t\terrors=np.append(errors,loss)\n",
        "\t\tcalc_labels=np.argmax(calc,axis=0)+1\n",
        "\t\tacc=accuracy_calc(calc_labels,train_labels)\n",
        "\t\tmult_accuracy=np.append(mult_accuracy,acc)\n",
        "\n",
        "\treturn mult_param,errors,mult_accuracy"
      ],
      "execution_count": 46,
      "outputs": []
    },
    {
      "cell_type": "code",
      "metadata": {
        "id": "oqBT6rGDaBW8"
      },
      "source": [
        "#To standardize the date\n",
        "\n",
        "def stdize(X):\n",
        "\tX = (X-np.mean(X,axis= 1,keepdims=True)) / np.std(X,axis= 1,keepdims=True)\n",
        "\treturn X"
      ],
      "execution_count": 47,
      "outputs": []
    },
    {
      "cell_type": "code",
      "metadata": {
        "id": "UsiNWZ9RaF7o"
      },
      "source": [
        "#To calculate the accuray\n",
        "def accuracy_calc(y_calc,labels):\n",
        "\treturn np.sum(y_calc==labels)/len(labels)*100"
      ],
      "execution_count": 48,
      "outputs": []
    },
    {
      "cell_type": "code",
      "metadata": {
        "id": "hvnOBdR8bEkX"
      },
      "source": [
        "#function to plot graphs\n",
        "\n",
        "def graph_plot(errors,title,y_title):\n",
        "\tplt.title(title)\n",
        "\tplt.plot(errors)\n",
        "\tplt.xlabel('Epochs')\n",
        "\tplt.ylabel(y_title)\n",
        "\tplt.show()"
      ],
      "execution_count": 49,
      "outputs": []
    },
    {
      "cell_type": "markdown",
      "metadata": {
        "id": "jMrfVxOBbd-e"
      },
      "source": [
        "MAIN PART"
      ]
    },
    {
      "cell_type": "code",
      "metadata": {
        "id": "FluoftHQ5r1u"
      },
      "source": [
        "#learning rate and epochs initialized\n",
        "eta=0.5\n",
        "epochs=1000\n",
        "\n",
        "\n",
        "n_labels=10\n",
        "\n",
        "\n",
        "n=len(dataset)\n",
        "train_len=int(0.7*n)\n",
        "\n",
        "#train-test split\n",
        "\n",
        "train_data=dataset[0:train_len]\n",
        "train_x,train_y=(train_data[:,:-1].T,train_data[:,-1].T)\n",
        "train_labels=train_y\n",
        "train_x=stdize(train_x)\n",
        "train_y=train_y.reshape(len(train_y),1)\n",
        "train_y=encoding_init_y(train_y,n_labels)\n",
        "\n",
        "\n",
        "test_data=dataset[train_len:n]\n",
        "test_x,test_y=(test_data[:,:-1].T,test_data[:,-1].T)\n",
        "test_labels=test_y\n",
        "test_x=stdize(test_x)\n",
        "test_y=test_y.reshape(len(test_y),1)\n",
        "test_y=encoding_init_y(test_y,n_labels)\n",
        "\n",
        "\n",
        "batch_length=int(0.5*train_x.shape[1])"
      ],
      "execution_count": 50,
      "outputs": []
    },
    {
      "cell_type": "markdown",
      "metadata": {
        "id": "q8rQ01nmcEy8"
      },
      "source": [
        "ONE HIDDEN LAYER'S RESULTS"
      ]
    },
    {
      "cell_type": "code",
      "metadata": {
        "colab": {
          "base_uri": "https://localhost:8080/",
          "height": 676
        },
        "id": "q5keZ4CHbuCP",
        "outputId": "689e3dc5-4524-472d-87fd-8f150670bf92"
      },
      "source": [
        "hidden_sizes=[20,0]\n",
        "\n",
        "print(\"RESULTS:- \\n\")\n",
        "print(\"When one hidden layer is used:\")\n",
        "mult_param,errors1,mult_accuracy1=grad_desc_fn(train_x,train_y,eta,epochs,hidden_sizes,batch_length)\n",
        "train_calc=np.argmax(fwd_propagate(train_x,mult_param,hidden_sizes)[-1],axis=0)+1\n",
        "train_acc=accuracy_calc(train_calc,train_labels)\n",
        "print(\"Training Accuracy of {:.2f}% is achieved\".format(train_acc))\n",
        "\n",
        "\n",
        "test_calc=np.argmax(fwd_propagate(test_x,mult_param,hidden_sizes)[-1],axis=0)+1\n",
        "test_acc=accuracy_calc(test_calc,test_labels)\n",
        "print(\"Testing Accuracy of {:.2f}% is achieved \\n\".format(test_acc))\n",
        "\n",
        "\n",
        "graph_plot(errors1,'Hidden layers= 1','Loss')\n",
        "graph_plot(mult_accuracy1,'Hidden layers= 1','Accuracy')"
      ],
      "execution_count": 51,
      "outputs": [
        {
          "output_type": "stream",
          "text": [
            "RESULTS:- \n",
            "\n",
            "When one hidden layer is used:\n",
            "Training Accuracy of 71.14% is achieved\n",
            "Testing Accuracy of 65.17% is achieved \n",
            "\n"
          ],
          "name": "stdout"
        },
        {
          "output_type": "display_data",
          "data": {
            "image/png": "[encoded data removed]",
            "text/plain": [
              "<Figure size 432x288 with 1 Axes>"
            ]
          },
          "metadata": {
            "tags": [],
            "needs_background": "light"
          }
        },
        {
          "output_type": "display_data",
          "data": {
            "image/png": "[encoded data removed]",
            "text/plain": [
              "<Figure size 432x288 with 1 Axes>"
            ]
          },
          "metadata": {
            "tags": [],
            "needs_background": "light"
          }
        }
      ]
    },
    {
      "cell_type": "markdown",
      "metadata": {
        "id": "yi6i5s1ScKCx"
      },
      "source": [
        "TWO HIDDEN LAYER'S RESULTS"
      ]
    },
    {
      "cell_type": "code",
      "metadata": {
        "colab": {
          "base_uri": "https://localhost:8080/",
          "height": 659
        },
        "id": "_s9kdmfyb7ne",
        "outputId": "ba91bdd4-1ab0-49a9-cf6c-ed2e76284fb8"
      },
      "source": [
        "hidden_sizes=[20,20]\n",
        "print(\"RESULTS:- \\n\")\n",
        "print(\"When two hidden layers are used:\")\n",
        "mult_param,errors2,mult_accuracy2=grad_desc_fn(train_x,train_y,eta,epochs,hidden_sizes,batch_length)\n",
        "train_calc=np.argmax(fwd_propagate(train_x,mult_param,hidden_sizes)[-1],axis=0)+1\n",
        "train_acc=accuracy_calc(train_calc,train_labels)\n",
        "print(\"Training Accuracy of {:.2f}% is achieved\".format(train_acc))\n",
        "\n",
        "\n",
        "test_calc=np.argmax(fwd_propagate(test_x,mult_param,hidden_sizes)[-1],axis=0)+1\n",
        "test_acc=accuracy_calc(test_calc,test_labels)\n",
        "print(\"Testing Accuracy of {:.2f}% is achieved\".format(test_acc))\n",
        "\n",
        "\n",
        "\n",
        "graph_plot(errors2,'Hidden layers= 2','Loss')\n",
        "graph_plot(mult_accuracy2,'Hidden layers= 2','Accuracy')"
      ],
      "execution_count": 52,
      "outputs": [
        {
          "output_type": "stream",
          "text": [
            "RESULTS:- \n",
            "\n",
            "When two hidden layers are used:\n",
            "Training Accuracy of 72.50% is achieved\n",
            "Testing Accuracy of 65.17% is achieved\n"
          ],
          "name": "stdout"
        },
        {
          "output_type": "display_data",
          "data": {
            "image/png": "[encoded data removed]",
            "text/plain": [
              "<Figure size 432x288 with 1 Axes>"
            ]
          },
          "metadata": {
            "tags": [],
            "needs_background": "light"
          }
        },
        {
          "output_type": "display_data",
          "data": {
            "image/png": "[encoded data removed]",
            "text/plain": [
              "<Figure size 432x288 with 1 Axes>"
            ]
          },
          "metadata": {
            "tags": [],
            "needs_background": "light"
          }
        }
      ]
    }
  ]
}